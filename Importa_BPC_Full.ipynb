{
  "nbformat": 4,
  "nbformat_minor": 0,
  "metadata": {
    "colab": {
      "name": "Importa_BPC_Full.ipynb",
      "provenance": [],
      "collapsed_sections": []
    },
    "kernelspec": {
      "name": "python3",
      "display_name": "Python 3"
    },
    "language_info": {
      "name": "python"
    }
  },
  "cells": [
    {
      "cell_type": "markdown",
      "metadata": {
        "id": "3S7H5RsSIdXO"
      },
      "source": [
        "# Trabalho de Conclusão de Curso - PUC-Minas\n",
        "\n",
        "Aluno Marco Antonio Ferreira Duran\n",
        "\n",
        "**Um estudo de averiguação cadastral do Benefício de Prestação Continuada**"
      ]
    },
    {
      "cell_type": "markdown",
      "metadata": {
        "id": "jNPOGJr8IQms"
      },
      "source": [
        "# Processamento e Tratmento de Dados"
      ]
    },
    {
      "cell_type": "markdown",
      "metadata": {
        "id": "3UFPqjruJFd5"
      },
      "source": [
        "**Importação de Bibliotecas**"
      ]
    },
    {
      "cell_type": "code",
      "metadata": {
        "id": "Mdq2w4TwJJ6u"
      },
      "source": [
        "import pandas as pd\n",
        "import numpy as np"
      ],
      "execution_count": null,
      "outputs": []
    },
    {
      "cell_type": "markdown",
      "metadata": {
        "id": "1T_jXQDUI7C-"
      },
      "source": [
        "**Importação do arquivo brasil de pagamentos do BPC - Dezembro/2019**"
      ]
    },
    {
      "cell_type": "code",
      "metadata": {
        "id": "Fs_NUKVeI6N4"
      },
      "source": [
        "bpc = pd.read_csv('sample_data/01912_BPC_UTF.csv',sep=';', \n",
        "                  header=0, dtype = {'MESCOMP': str, 'MESREF': str, \n",
        "                                     'UF': str, 'CODMUNSIAFI':str, \n",
        "                                     'NOMEMUN': str, \n",
        "                                     'NISBENEF': str, 'NISREPRES': str, \n",
        "                                     'CPFREPRES': str, 'NOMEREPRES': str, \n",
        "                                     'NUMBENEF': str, 'BENEFJUD': str, \n",
        "                                     'PARCELA': float }, decimal=',', low_memory=False)"
      ],
      "execution_count": null,
      "outputs": []
    },
    {
      "cell_type": "code",
      "metadata": {
        "id": "VjFAP4vrJZ_t"
      },
      "source": [
        "print(bpc.shape)"
      ],
      "execution_count": null,
      "outputs": []
    },
    {
      "cell_type": "code",
      "metadata": {
        "id": "vPb8QzFNJda7"
      },
      "source": [
        "bpc.dtypes"
      ],
      "execution_count": null,
      "outputs": []
    },
    {
      "cell_type": "code",
      "metadata": {
        "id": "sMLyEzfvJgF0"
      },
      "source": [
        "bpc.isnull().sum()"
      ],
      "execution_count": null,
      "outputs": []
    },
    {
      "cell_type": "markdown",
      "metadata": {
        "id": "C69sekKFJo4v"
      },
      "source": [
        "**Uma amostra dos dados**"
      ]
    },
    {
      "cell_type": "code",
      "metadata": {
        "id": "5Ojis4dPJsCT"
      },
      "source": [
        "bpc.head()"
      ],
      "execution_count": null,
      "outputs": []
    },
    {
      "cell_type": "markdown",
      "metadata": {
        "id": "NVc-de_DJ55z"
      },
      "source": [
        "**Benefícios por Estado**"
      ]
    },
    {
      "cell_type": "code",
      "metadata": {
        "id": "1BYiagD6J_Gy"
      },
      "source": [
        "grupo_UF = bpc.groupby(['UF'], as_index=False)['NUMBENEF'].count()\n",
        "grupo_UF.head(27)"
      ],
      "execution_count": null,
      "outputs": []
    },
    {
      "cell_type": "markdown",
      "metadata": {
        "id": "raipQplaKKWr"
      },
      "source": [
        "**Benefícios por Município**"
      ]
    },
    {
      "cell_type": "code",
      "metadata": {
        "id": "dulrmo5GKTDB"
      },
      "source": [
        "grupo_mun = bpc.groupby(['UF','NOMEMUN'], as_index=False)['NUMBENEF'].count()\n",
        "grupo_mun.shape\n",
        "grupo_mun.sort_values(by=['NUMBENEF'], ascending=False).head(30)"
      ],
      "execution_count": null,
      "outputs": []
    },
    {
      "cell_type": "markdown",
      "metadata": {
        "id": "sdV3oCKxKhcw"
      },
      "source": [
        "**Extrair BPC de Município**"
      ]
    },
    {
      "cell_type": "code",
      "metadata": {
        "id": "8b4Vfo72KqrY"
      },
      "source": [
        "result = bpc.query('NOMEMUN == \"BELO HORIZONTE\"')\n",
        "result.shape\n"
      ],
      "execution_count": null,
      "outputs": []
    },
    {
      "cell_type": "code",
      "metadata": {
        "id": "X0Adm8GYK9YK"
      },
      "source": [
        "result.to_csv('c:\\\\dados_python\\\\bpc_BH.csv',sep=';',index=False)"
      ],
      "execution_count": null,
      "outputs": []
    },
    {
      "cell_type": "code",
      "metadata": {
        "id": "rDRWempmKBoW"
      },
      "source": [
        ""
      ],
      "execution_count": null,
      "outputs": []
    }
  ]
}